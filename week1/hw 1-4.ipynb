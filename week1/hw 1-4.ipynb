{
 "cells": [
  {
   "cell_type": "code",
   "execution_count": 1,
   "metadata": {},
   "outputs": [
    {
     "name": "stdout",
     "output_type": "stream",
     "text": [
      "請輸入你的水表度數 : 68\n",
      "上個月的水費為 : 700 元\n"
     ]
    }
   ],
   "source": [
    "import math\n",
    "water = int(input(\"請輸入你的水表度數 : \"))\n",
    "\n",
    "if(water <= 20) :\n",
    "   print(\"上個月的水費為 :\",math.ceil(water*7.25),\"元\")\n",
    "elif(water <=40) :\n",
    "   print(\"上個月的水費為 :\",math.ceil((water*10.15)-((10.15-7.25)*20)),\"元\") \n",
    "elif(water <=60) :\n",
    "   print(\"上個月的水費為 :\",math.ceil((water*12.35)-((10.15-7.25)*20)-((12.35-10.15)*40)),\"元\")  \n",
    "else :\n",
    "   print(\"上個月的水費為 :\",math.ceil((water*13.075)-((10.15-7.25)*20)-((12.35-10.15)*40)-((13.075-12.35)*60)),\"元\")  "
   ]
  },
  {
   "cell_type": "code",
   "execution_count": null,
   "metadata": {},
   "outputs": [],
   "source": []
  }
 ],
 "metadata": {
  "kernelspec": {
   "display_name": "Python 3",
   "language": "python",
   "name": "python3"
  },
  "language_info": {
   "codemirror_mode": {
    "name": "ipython",
    "version": 3
   },
   "file_extension": ".py",
   "mimetype": "text/x-python",
   "name": "python",
   "nbconvert_exporter": "python",
   "pygments_lexer": "ipython3",
   "version": "3.6.4"
  }
 },
 "nbformat": 4,
 "nbformat_minor": 2
}
