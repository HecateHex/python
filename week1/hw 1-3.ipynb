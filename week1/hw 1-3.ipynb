{
 "cells": [
  {
   "cell_type": "code",
   "execution_count": 4,
   "metadata": {},
   "outputs": [
    {
     "name": "stdout",
     "output_type": "stream",
     "text": [
      "Input month of birth (e.g Jane,October etc): hello\n",
      "Input birthday(1-31): 2\n",
      "Pleace check your infortmation \n"
     ]
    }
   ],
   "source": [
    "month = str(input(\"Input month of birth (e.g Jane,October etc): \"))\n",
    "date = int(input(\"Input birthday(1-31): \"))\n",
    "\n",
    "if(month == \"March\" and date >=21 ) or (month == \"April\" and date <= 19) :\n",
    "    print(\"Your Astrological sign is : Aries\")\n",
    "elif(month == \"April\" and date >=20) or (month == \"May\" and date <= 20) :\n",
    "    print(\"Your Astrological sign is : Taurus\")\n",
    "elif(month == \"May\" and date >=21) or (month == \"June\" and date <= 20) :\n",
    "    print(\"Your Astrological sign is : Gemini\")\n",
    "elif(month == \"June\" and date >= 21) or (month == \"July\" and date <= 22) :\n",
    "    print(\"Your Astrological sign is : Caneer\")\n",
    "elif(month == \"July\" and date >= 23) or (month == \"Auguest\" and date <= 22) :\n",
    "    print(\"Your Astrological sign is : Leo\")\n",
    "elif(month == \"Auguset\" and date >= 23) or (month == \"September\" and date <=22) :\n",
    "    print(\"Your Astrological sign is : Virgo\")\n",
    "elif(month == \"September\" and date >= 23) or (month == \"October\" and date <=22) :\n",
    "    print(\"Your Astrological sign is : Libra\")\n",
    "elif(month == \"October\" and date >= 23) or (month == \"November\" and date <=21) :\n",
    "    print(\"Your Astrological sign is : Scorpio\")\n",
    "elif(month == \"November\" and date >= 22) or (month == \"December\" and date <=21) :\n",
    "    print(\"Your Astrological sign is : Sagittarius\")\n",
    "elif(month == \"December\" and date >= 22) or (month == \"January\" and date <=19) :\n",
    "    print(\"Your Astrological sign is : Capricorn\")\n",
    "elif(month == \"January\" and date >=20) or (month == \"February\" and date <=18) :\n",
    "    print(\"Your Astrological sign is : Aquarius\")\n",
    "elif(month == \"February\" and date >=19) or (month == \"March\" and date <=20) :\n",
    "    print(\"Your Astrological sign is : Pisces\")\n",
    "else : \n",
    "    print(\"Pleace check your infortmation \")"
   ]
  },
  {
   "cell_type": "code",
   "execution_count": null,
   "metadata": {},
   "outputs": [],
   "source": []
  }
 ],
 "metadata": {
  "kernelspec": {
   "display_name": "Python 3",
   "language": "python",
   "name": "python3"
  },
  "language_info": {
   "codemirror_mode": {
    "name": "ipython",
    "version": 3
   },
   "file_extension": ".py",
   "mimetype": "text/x-python",
   "name": "python",
   "nbconvert_exporter": "python",
   "pygments_lexer": "ipython3",
   "version": "3.6.4"
  }
 },
 "nbformat": 4,
 "nbformat_minor": 2
}
