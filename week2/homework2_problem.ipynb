{
 "cells": [
  {
   "cell_type": "code",
   "execution_count": 1,
   "metadata": {},
   "outputs": [],
   "source": [
    "# Name and Student ID\n",
    "# 405736002 陳冠樺"
   ]
  },
  {
   "cell_type": "markdown",
   "metadata": {},
   "source": [
    "## Homework 2-1 (25 points)\n",
    "Design a function that find the perimeter / circumference of squares, rectangles and circles. The function can return the difference of results by using different arguments.\n",
    "\n",
    "Hint: \n",
    "- If-else\n",
    "- Keyword arguments and Default arguments"
   ]
  },
  {
   "cell_type": "code",
   "execution_count": 3,
   "metadata": {},
   "outputs": [],
   "source": [
    "# The function code\n",
    "import math\n",
    "def getperimeter(self,shape) :\n",
    "    if(shape == \"square\") :\n",
    "        return (self*4)\n",
    "    elif(shape == \"circular\") :\n",
    "        return float(2*self*math.pi)\n",
    "    else :\n",
    "        return((self[0]+self[1])*2)"
   ]
  },
  {
   "cell_type": "code",
   "execution_count": 4,
   "metadata": {},
   "outputs": [
    {
     "name": "stdout",
     "output_type": "stream",
     "text": [
      "36\n"
     ]
    }
   ],
   "source": [
    "perimeterOfsquare= getperimeter(9, shape=\"square\")\n",
    "print(perimeterOfsquare)"
   ]
  },
  {
   "cell_type": "code",
   "execution_count": 5,
   "metadata": {},
   "outputs": [
    {
     "name": "stdout",
     "output_type": "stream",
     "text": [
      "57\n"
     ]
    }
   ],
   "source": [
    "circumferenceOfCircle= getperimeter(9, shape=\"circular\")\n",
    "print(\"%2.f\" % circumferenceOfCircle)"
   ]
  },
  {
   "cell_type": "code",
   "execution_count": 6,
   "metadata": {},
   "outputs": [
    {
     "name": "stdout",
     "output_type": "stream",
     "text": [
      "18\n"
     ]
    }
   ],
   "source": [
    "perimeterOfRectangle= getperimeter((5, 4), shape=\"rectangle\")\n",
    "print(perimeterOfRectangle)"
   ]
  },
  {
   "cell_type": "markdown",
   "metadata": {},
   "source": [
    "## Homework 2-2 (25 points)\n",
    "\n",
    "Design a function to print out all odd numbers between the <font color=\"red\">input values(Involved)</font>. <br>\n",
    "In addition, numbers that are divisible by 3 or 7 will be skipped and will not be printed.<br>\n",
    "If the first number is bigger than the second number, then the program still outputs the correct result. \n",
    "\n",
    "Hint:\n",
    "- if-else, loops and continue statement\n",
    "- print(i, end =\" \") or print(\"%d\" % i, end =\" \") \n",
    "\n",
    "Sample output:\n",
    "\n",
    "|Sample 1|Sample 2|\n",
    "|------|------|\n",
    "|<img src=\"img/Homework2-2_sampleOutput1.jpg\"/>|<img src=\"img/Homework2-2_sampleOutput2.jpg\"/>|"
   ]
  },
  {
   "cell_type": "code",
   "execution_count": 22,
   "metadata": {},
   "outputs": [
    {
     "name": "stdout",
     "output_type": "stream",
     "text": [
      "Enter the first number9\n",
      "Enter the second number33\n",
      "11 13 17 19 23 25 29 31 "
     ]
    }
   ],
   "source": [
    "# x is strat number , y is end number \n",
    "x = int(input (\"Enter the first number\"))\n",
    "y = int(input (\"Enter the second number\"))\n",
    "\n",
    "while(x > y)  :\n",
    "    con = x \n",
    "    x = y\n",
    "    y = con \n",
    "for num in range(x,y+1,2) :\n",
    "    if(num%3!=0) and (num%7!=0) :\n",
    "        print (num,end=\" \") "
   ]
  },
  {
   "cell_type": "markdown",
   "metadata": {},
   "source": [
    "##### Homework 2-3 (50 points)\n",
    "\n",
    "In the 2D world, the pharaoh want to build a wonder of the world with the symbol $ so he order the architect to draw a plan. But the Pharaoh don't announce how many layers to construct and what shape of the building is. Your task is to write a program that uses functions to draw a pyramid and an inverted pyramid, as chosen by the pharaoh. \n",
    "\n",
    "Your program should design two functions: drawPyramid() and drawInvertedPyramid()<br>\n",
    "The program asks which shape of the building is constructed. If the response is not a pyramid or an inverted pyramid, then it continue to ask the same question. And the program allows the user to input the number of layers.\n",
    "\n",
    "Hint: if-else, loops, and function\n",
    "    \n",
    "Sample output:\n",
    "\n",
    "|Sample 1|Sample 2|\n",
    "|------|------|\n",
    "|<img src=\"img/Homework2-3_sampleOutput1.jpg\"/>|<img src=\"img/Homework2-3_sampleOutput2.jpg\"/>|"
   ]
  },
  {
   "cell_type": "code",
   "execution_count": null,
   "metadata": {},
   "outputs": [
    {
     "name": "stdout",
     "output_type": "stream",
     "text": [
      "Which shape of the building is constructed ? pyramid or inverted pyramid ?  inverted pyramid\n",
      "How many layers of this building ? 2\n",
      "* * \n",
      "\n",
      " * \n",
      "\n"
     ]
    }
   ],
   "source": [
    "def drawPyramid(num) :\n",
    "    for i in range(0,num) :\n",
    "        for j in range(0,num-i-1) :\n",
    "            print(end=\" \")\n",
    "        for j in range(0,i+1) :\n",
    "            print(\"*\",end=\" \")\n",
    "        print(\"\\n\")\n",
    "def drawInvertedPyramid(num) :\n",
    "    for i in range(num,0,-1) :\n",
    "        for j in range(num-i,0,-1) :\n",
    "            print(end=\" \")\n",
    "        for j in range(i,0,-1) :\n",
    "            print(\"*\",end=\" \")\n",
    "        print(\"\\n\")\n",
    "while True :\n",
    "    Type = input(\"Which shape of the building is constructed ? pyramid or inverted pyramid ?  \")\n",
    "    \n",
    "    if(Type == \"pyramid\") :\n",
    "        num = int(input(\"How many layers of this building ? \"))\n",
    "        drawPyramid(num) \n",
    "    elif(Type == \"inverted pyramid\") :\n",
    "        num = int(input(\"How many layers of this building ? \"))\n",
    "        drawInvertedPyramid(num)\n",
    "    else :\n",
    "        pass "
   ]
  },
  {
   "cell_type": "markdown",
   "metadata": {},
   "source": []
  }
 ],
 "metadata": {
  "kernelspec": {
   "display_name": "Python 3",
   "language": "python",
   "name": "python3"
  },
  "language_info": {
   "codemirror_mode": {
    "name": "ipython",
    "version": 3
   },
   "file_extension": ".py",
   "mimetype": "text/x-python",
   "name": "python",
   "nbconvert_exporter": "python",
   "pygments_lexer": "ipython3",
   "version": "3.6.4"
  }
 },
 "nbformat": 4,
 "nbformat_minor": 2
}
